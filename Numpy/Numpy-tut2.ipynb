{
 "cells": [
  {
   "cell_type": "markdown",
   "id": "a7b4e905",
   "metadata": {},
   "source": [
    "## Numpy Array Operations"
   ]
  },
  {
   "cell_type": "code",
   "execution_count": 1,
   "id": "85f75958",
   "metadata": {},
   "outputs": [],
   "source": [
    "import numpy as np"
   ]
  },
  {
   "cell_type": "markdown",
   "id": "c4c28852",
   "metadata": {},
   "source": [
    "## Basic Slicing"
   ]
  },
  {
   "cell_type": "code",
   "execution_count": 10,
   "id": "69d86749",
   "metadata": {},
   "outputs": [
    {
     "name": "stdout",
     "output_type": "stream",
     "text": [
      "Basic Slicing:  [4 5 6 7 8]\n",
      "With Step:  [ 2  4  6  8 10]\n",
      "Negative index Slicing:  [10  8  6  4  2]\n"
     ]
    }
   ],
   "source": [
    "arr = np.array([1, 2, 3, 4, 5, 6, 7, 8, 9, 10])\n",
    "\n",
    "print(\"Basic Slicing: \", arr[3 : 8])\n",
    "print(\"With Step: \", arr[1 : 11 : 2])\n",
    "print(\"Negative index Slicing: \", arr[-1 : 0 : -2])"
   ]
  },
  {
   "cell_type": "markdown",
   "id": "ab0a521d",
   "metadata": {},
   "source": [
    "## Slicing on Multi-dimensional Array"
   ]
  },
  {
   "cell_type": "code",
   "execution_count": null,
   "id": "c34f90e9",
   "metadata": {},
   "outputs": [
    {
     "name": "stdout",
     "output_type": "stream",
     "text": [
      "Original Array: \n",
      " [[ 1  2  3  4]\n",
      " [ 5  6  7  8]\n",
      " [ 9 10 11 12]\n",
      " [13 14 15 16]]\n",
      "\n",
      "Particular Element:  7\n",
      "\n",
      "Entire Row:  [ 9 10 11 12]\n",
      "\n",
      "Entire Column:  [ 3  7 11 15]\n",
      "\n",
      "Advance Slicing:  [16 15 14 13]\n"
     ]
    }
   ],
   "source": [
    "arr_2d = np.arange(1, 17).reshape(4,4)\n",
    "print(\"Original Array: \\n\", arr_2d)\n",
    "\n",
    "# getting element at 2nd row and 3rd column\n",
    "print(\"\\nParticular Element: \", arr_2d[1, 2])\n",
    "\n",
    "print(\"\\nEntire Row: \", arr_2d[2])# print row 3\n",
    "print(\"\\nEntire Column: \", arr_2d[:, 2]) # pirnt column 3\n",
    "\n",
    "print(\"\\nAdvance Slicing: \", arr_2d[ 3,-1::-1]) # this print the last row in reverse order"
   ]
  },
  {
   "cell_type": "markdown",
   "id": "9d6d59ca",
   "metadata": {},
   "source": [
    "## Sorting"
   ]
  }
 ],
 "metadata": {
  "kernelspec": {
   "display_name": "venv",
   "language": "python",
   "name": "python3"
  },
  "language_info": {
   "codemirror_mode": {
    "name": "ipython",
    "version": 3
   },
   "file_extension": ".py",
   "mimetype": "text/x-python",
   "name": "python",
   "nbconvert_exporter": "python",
   "pygments_lexer": "ipython3",
   "version": "3.12.0"
  }
 },
 "nbformat": 4,
 "nbformat_minor": 5
}
