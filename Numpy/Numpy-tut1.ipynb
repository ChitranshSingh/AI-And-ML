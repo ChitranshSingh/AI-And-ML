{
 "cells": [
  {
   "cell_type": "markdown",
   "id": "8ac48b26",
   "metadata": {},
   "source": [
    "## Creation of Arrays by NUMPY"
   ]
  },
  {
   "cell_type": "code",
   "execution_count": 37,
   "id": "7000a064",
   "metadata": {},
   "outputs": [],
   "source": [
    "import numpy as np"
   ]
  },
  {
   "cell_type": "code",
   "execution_count": 38,
   "id": "eb1a107d",
   "metadata": {},
   "outputs": [
    {
     "name": "stdout",
     "output_type": "stream",
     "text": [
      "Vector :  [1. 2. 3.]\n",
      "Matrices : \n",
      "\n",
      " [[1 2 3]\n",
      " [4 5 6]]\n",
      "Tensor : \n",
      "\n",
      " [[[ 1  2]\n",
      "  [ 4  5]]\n",
      "\n",
      " [[ 6  7]\n",
      "  [ 8  9]]\n",
      "\n",
      " [[10 11]\n",
      "  [12 13]]]\n"
     ]
    }
   ],
   "source": [
    "# we can also specify the data type during the intialization of array.\n",
    "arr_1d = np.array([1,2,3], dtype = np.float16) \n",
    "print(\"Vector : \",arr_1d)\n",
    "\n",
    "arr_2d = np.array([[1,2,3],\n",
    "                   [4,5,6]], dtype = np.int32)\n",
    "print(\"Matrices : \\n\\n\",arr_2d)\n",
    "\n",
    "arr_3d = np.array([[[1,2], [4,5]],\n",
    "                   [[6,7], [8,9]],\n",
    "                   [[10,11], [12,13]]])\n",
    "print(\"Tensor : \\n\\n\", arr_3d)"
   ]
  },
  {
   "cell_type": "markdown",
   "id": "2c39c333",
   "metadata": {},
   "source": [
    "# Properties of Arrays"
   ]
  },
  {
   "cell_type": "code",
   "execution_count": 39,
   "id": "1f878f51",
   "metadata": {},
   "outputs": [
    {
     "name": "stdout",
     "output_type": "stream",
     "text": [
      "Size of Matrix:  6\n",
      "Size of Tensor:  12\n",
      "Dimension of Matrix:  2\n",
      "Dimension of Tensor:  3\n",
      "Shape of Matrix:  (2, 3)\n",
      "Shape of Tensor:  (3, 2, 2)\n",
      "Data Type of Matrix:  int32\n",
      "Date Type of Tensor:  int64\n",
      "Item Size of Matrix:  4\n",
      "Item Size of Tensor:  8\n"
     ]
    }
   ],
   "source": [
    "#Size means the total number of elements in the array\n",
    "size2 = arr_2d.size\n",
    "size3 = arr_3d.size\n",
    "\n",
    "print(\"Size of Matrix: \", size2)\n",
    "print(\"Size of Tensor: \", size3)\n",
    "\n",
    "dim2 = arr_2d.ndim\n",
    "dim3 = arr_3d.ndim\n",
    "\n",
    "print(\"Dimension of Matrix: \", dim2)\n",
    "print(\"Dimension of Tensor: \", dim3)\n",
    "\n",
    "\n",
    "shape2 = arr_2d.shape\n",
    "shape3 = arr_3d.shape\n",
    "\n",
    "print(\"Shape of Matrix: \", shape2)\n",
    "print(\"Shape of Tensor: \", shape3)\n",
    "\n",
    "dtype2 = arr_2d.dtype\n",
    "dtype3 = arr_3d.dtype\n",
    "\n",
    "#showing int32 because we specified it during initialization\n",
    "print(\"Data Type of Matrix: \", dtype2)\n",
    "print(\"Date Type of Tensor: \", dtype3)\n",
    "\n",
    "#Item size means the actual size in byte that a particular piece \n",
    "# of date is taking from memory to store it.\n",
    "itemsize2 = arr_2d.itemsize\n",
    "itemsize3 = arr_3d.itemsize\n",
    "\n",
    "print(\"Item Size of Matrix: \", itemsize2) #int32 takes 4 bytes\n",
    "print(\"Item Size of Tensor: \", itemsize3) #int64 takes 8 bytes"
   ]
  },
  {
   "cell_type": "markdown",
   "id": "c5c6be9c",
   "metadata": {},
   "source": [
    "## Creating Basic Arrays"
   ]
  },
  {
   "cell_type": "code",
   "execution_count": 40,
   "id": "1ec6a6eb",
   "metadata": {},
   "outputs": [
    {
     "name": "stdout",
     "output_type": "stream",
     "text": [
      "Zero Matrice: \n",
      " [[0. 0. 0.]\n",
      " [0. 0. 0.]]\n",
      "Ones Matrice: \n",
      " [[1 1]\n",
      " [1 1]]\n",
      "Empty Matrice: \n",
      " [[0 0]\n",
      " [0 0]\n",
      " [0 0]]\n",
      "Full Matice: \n",
      " [[7 7 7]\n",
      " [7 7 7]\n",
      " [7 7 7]]\n"
     ]
    }
   ],
   "source": [
    "#Zeros is the type of array in which all the elements are 0.\n",
    "zero_matrice = np.zeros((2,3))\n",
    "print(\"Zero Matrice: \\n\", zero_matrice)\n",
    "\n",
    "#Ones is the type of array in which all the elements are 1.\n",
    "ones_matrice = np.ones((2,2), dtype = np.int8)\n",
    "print(\"Ones Matrice: \\n\", ones_matrice)\n",
    "\n",
    "#Empty is the type of array in which all the elements are empty\n",
    "empty_matrice = np.empty((3,2), dtype = np.int64)\n",
    "print(\"Empty Matrice: \\n\", empty_matrice)\n",
    "\n",
    "#Full is the type of array in which all the are same value is provided.\n",
    "full_matrice = np.full((3,3), 7)\n",
    "print(\"Full Matice: \\n\", full_matrice)"
   ]
  },
  {
   "cell_type": "markdown",
   "id": "c27ef4c6",
   "metadata": {},
   "source": [
    "## Arange & Reshape Functions"
   ]
  },
  {
   "cell_type": "code",
   "execution_count": 41,
   "id": "25bf9406",
   "metadata": {},
   "outputs": [
    {
     "name": "stdout",
     "output_type": "stream",
     "text": [
      "Tabel of 3 Using arange: \n",
      " [ 3  6  9 12 15 18 21 24 27 30]\n",
      "Dimension of Tabel:  1\n",
      "Reshaped Array: \n",
      " [[ 3  6]\n",
      " [ 9 12]\n",
      " [15 18]\n",
      " [21 24]\n",
      " [27 30]]\n",
      "Dimension of Reshaped Array:  2\n",
      "4D Array Reshaped from 1d: \n",
      " [[[[ 1  2]\n",
      "   [ 3  4]]\n",
      "\n",
      "  [[ 5  6]\n",
      "   [ 7  8]]]\n",
      "\n",
      "\n",
      " [[[ 9 10]\n",
      "   [11 12]]\n",
      "\n",
      "  [[13 14]\n",
      "   [15 16]]]]\n",
      "Dimension of 4D Array:  4\n"
     ]
    }
   ],
   "source": [
    "#Arange function to create the array (vector or 1d) in a range of numbers. \n",
    "#It works just like range function of python\n",
    "#SYNTAX: arange(start, stop, step, dtype)\n",
    "\n",
    "arr_1d = np.arange(3, 31, 3) #prints tabel of 3\n",
    "print(\"Tabel of 3 Using arange: \\n\", arr_1d)\n",
    "print(\"Dimension of Tabel: \", arr_1d.ndim)\n",
    "\n",
    "#We can use the reshape function to change the shape of the array and\n",
    "# It also change the dimension.\n",
    "\n",
    "arr_2d = arr_1d.reshape(5, 2)\n",
    "print(\"Reshaped Array: \\n\", arr_2d)\n",
    "print(\"Dimension of Reshaped Array: \", arr_2d.ndim)\n",
    "\n",
    "arr_4d = np.arange(1, 17).reshape(2,2,2,2)\n",
    "print(\"4D Array Reshaped from 1d: \\n\", arr_4d)\n",
    "print(\"Dimension of 4D Array: \", arr_4d.ndim)\n"
   ]
  },
  {
   "cell_type": "markdown",
   "id": "c468da1d",
   "metadata": {},
   "source": [
    "## Flatten & Ravel"
   ]
  },
  {
   "cell_type": "code",
   "execution_count": 42,
   "id": "058a38e3",
   "metadata": {},
   "outputs": [
    {
     "name": "stdout",
     "output_type": "stream",
     "text": [
      "Flattened Array: \n",
      " [ 1  2  3  4  5  6  7  8  9 10 11 12 13 14 15 16]\n",
      "Dimension of Flattened Array:  1\n",
      "Ravaled Array: \n",
      " [ 1  2  3  4  5  6  7  8  9 10 11 12 13 14 15 16]\n",
      "Dimension of Ravaled Array:  4\n"
     ]
    }
   ],
   "source": [
    "# We have flatten function which used to convert\n",
    "# multi-dimensional array to a 1d array.\n",
    "\n",
    "arr_4d_flattened = arr_4d.flatten()\n",
    "print(\"Flattened Array: \\n\", arr_4d_flattened)\n",
    "print(\"Dimension of Flattened Array: \", arr_4d_flattened.ndim)\n",
    "\n",
    "# We Use another function to flatten the array which is ravel but\n",
    "# the differnce is flatten(): Always returns a new independent copy \n",
    "# of the array. Modifications to the flattened array will not affect \n",
    "# the original array.\n",
    "# ravel(): Returns a contiguous flattened array.This means if the memory \n",
    "# layout allows, ravel() will return a reference to the original data.\n",
    "\n",
    "print(\"Ravaled Array: \\n\", arr_4d.ravel())\n",
    "print(\"Dimension of Ravaled Array: \", arr_4d.ndim)"
   ]
  },
  {
   "cell_type": "markdown",
   "id": "e38f096e",
   "metadata": {},
   "source": [
    "# Linespace Funtion"
   ]
  },
  {
   "cell_type": "code",
   "execution_count": null,
   "id": "515dc5f3",
   "metadata": {},
   "outputs": [
    {
     "name": "stdout",
     "output_type": "stream",
     "text": [
      "Array of 6 floating point numbers from 0 to 1: \n",
      " [0.  0.2 0.4 0.6 0.8 1. ]\n"
     ]
    }
   ],
   "source": [
    "# We can use floating point numbers as arguments in the arange function.\n",
    "# But the problem is that if we give the step as a floating point we have limit of precision for that we use a differnt function named : \n",
    "# linespace(start, stop, count_of_numbers_want_between_start_stop)\n",
    "# linspace is the function to create the array in a range of numbers.\n",
    "floating_arr = np.linspace(0, 1, 6)\n",
    "print(\"Array of 6 floating point numbers from 0 to 1: \\n\", floating_arr)"
   ]
  },
  {
   "cell_type": "markdown",
   "id": "79a0af1d",
   "metadata": {},
   "source": [
    "## Transpose (row -> column)"
   ]
  },
  {
   "cell_type": "code",
   "execution_count": 54,
   "id": "110d7acb",
   "metadata": {},
   "outputs": [
    {
     "name": "stdout",
     "output_type": "stream",
     "text": [
      "Original Array: \n",
      " [[1 2 3]\n",
      " [4 5 6]]\n",
      "Shape of Original Array:  (2, 3)\n",
      "Dimension of Original Array:  2\n",
      "Transposed Array: \n",
      " [[1 4]\n",
      " [2 5]\n",
      " [3 6]]\n",
      "Shape of Transposed Array:  (3, 2)\n",
      "Dimension of Transposed Array:  2\n"
     ]
    }
   ],
   "source": [
    "# We can use the transpose function to transpose an array it means\n",
    "# it interchange the columns with rows.\n",
    "\n",
    "og_array = np.arange(1, 7).reshape(2,3) \n",
    "print(\"Original Array: \\n\", og_array)\n",
    "print(\"Shape of Original Array: \", og_array.shape)\n",
    "print(\"Dimension of Original Array: \", og_array.ndim)\n",
    "\n",
    "transpose_arr = og_array.T\n",
    "print(\"Transposed Array: \\n\", transpose_arr)\n",
    "print(\"Shape of Transposed Array: \", transpose_arr.shape)\n",
    "print(\"Dimension of Transposed Array: \", transpose_arr.ndim)\n",
    " "
   ]
  }
 ],
 "metadata": {
  "kernelspec": {
   "display_name": "venv",
   "language": "python",
   "name": "python3"
  },
  "language_info": {
   "codemirror_mode": {
    "name": "ipython",
    "version": 3
   },
   "file_extension": ".py",
   "mimetype": "text/x-python",
   "name": "python",
   "nbconvert_exporter": "python",
   "pygments_lexer": "ipython3",
   "version": "3.12.0"
  }
 },
 "nbformat": 4,
 "nbformat_minor": 5
}
